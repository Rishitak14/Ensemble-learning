{
 "cells": [
  {
   "cell_type": "markdown",
   "id": "3bf2f0af",
   "metadata": {},
   "source": [
    "**Linear Regression and Ensemble Learning on the given dataset to predict the score of a student if he studies for about 9.25 hours in a day.**\n",
    "\n",
    "**By: Rishita**"
   ]
  },
  {
   "cell_type": "code",
   "execution_count": 5,
   "id": "db6d155a",
   "metadata": {},
   "outputs": [],
   "source": [
    "#importing all the required libraries\n",
    "import numpy as np  #used for performing operations on numerical data\n",
    "import pandas as pd  #used for data manipulation and analysis\n",
    "import seaborn as sns #used for drawing statistical graphics \n",
    "from sklearn.model_selection import RandomizedSearchCV \n",
    "from sklearn.model_selection import cross_val_score #for cross-validation evaluation\n",
    "from sklearn.metrics import mean_squared_error #to calculate the RMSE\n",
    "import xgboost as xgb\n",
    "from xgboost import XGBRegressor \n",
    "import matplotlib.pyplot as plt\n",
    "%matplotlib inline\n",
    "import warnings\n",
    "warnings.filterwarnings('ignore')"
   ]
  },
  {
   "cell_type": "code",
   "execution_count": 6,
   "id": "23d1df94",
   "metadata": {},
   "outputs": [
    {
     "data": {
      "text/html": [
       "<div>\n",
       "<style scoped>\n",
       "    .dataframe tbody tr th:only-of-type {\n",
       "        vertical-align: middle;\n",
       "    }\n",
       "\n",
       "    .dataframe tbody tr th {\n",
       "        vertical-align: top;\n",
       "    }\n",
       "\n",
       "    .dataframe thead th {\n",
       "        text-align: right;\n",
       "    }\n",
       "</style>\n",
       "<table border=\"1\" class=\"dataframe\">\n",
       "  <thead>\n",
       "    <tr style=\"text-align: right;\">\n",
       "      <th></th>\n",
       "      <th>Hours</th>\n",
       "      <th>Scores</th>\n",
       "    </tr>\n",
       "  </thead>\n",
       "  <tbody>\n",
       "    <tr>\n",
       "      <th>0</th>\n",
       "      <td>2.5</td>\n",
       "      <td>21</td>\n",
       "    </tr>\n",
       "    <tr>\n",
       "      <th>1</th>\n",
       "      <td>5.1</td>\n",
       "      <td>47</td>\n",
       "    </tr>\n",
       "    <tr>\n",
       "      <th>2</th>\n",
       "      <td>3.2</td>\n",
       "      <td>27</td>\n",
       "    </tr>\n",
       "    <tr>\n",
       "      <th>3</th>\n",
       "      <td>8.5</td>\n",
       "      <td>75</td>\n",
       "    </tr>\n",
       "    <tr>\n",
       "      <th>4</th>\n",
       "      <td>3.5</td>\n",
       "      <td>30</td>\n",
       "    </tr>\n",
       "    <tr>\n",
       "      <th>5</th>\n",
       "      <td>1.5</td>\n",
       "      <td>20</td>\n",
       "    </tr>\n",
       "    <tr>\n",
       "      <th>6</th>\n",
       "      <td>9.2</td>\n",
       "      <td>88</td>\n",
       "    </tr>\n",
       "    <tr>\n",
       "      <th>7</th>\n",
       "      <td>5.5</td>\n",
       "      <td>60</td>\n",
       "    </tr>\n",
       "    <tr>\n",
       "      <th>8</th>\n",
       "      <td>8.3</td>\n",
       "      <td>81</td>\n",
       "    </tr>\n",
       "    <tr>\n",
       "      <th>9</th>\n",
       "      <td>2.7</td>\n",
       "      <td>25</td>\n",
       "    </tr>\n",
       "  </tbody>\n",
       "</table>\n",
       "</div>"
      ],
      "text/plain": [
       "   Hours  Scores\n",
       "0    2.5      21\n",
       "1    5.1      47\n",
       "2    3.2      27\n",
       "3    8.5      75\n",
       "4    3.5      30\n",
       "5    1.5      20\n",
       "6    9.2      88\n",
       "7    5.5      60\n",
       "8    8.3      81\n",
       "9    2.7      25"
      ]
     },
     "execution_count": 6,
     "metadata": {},
     "output_type": "execute_result"
    }
   ],
   "source": [
    "#Reading data of csv file from the given url\n",
    "df = pd.read_csv(\"http://bit.ly/w-data\")\n",
    "df.head(10)"
   ]
  },
  {
   "cell_type": "code",
   "execution_count": 7,
   "id": "4213b469",
   "metadata": {},
   "outputs": [
    {
     "data": {
      "text/plain": [
       "(25, 2)"
      ]
     },
     "execution_count": 7,
     "metadata": {},
     "output_type": "execute_result"
    }
   ],
   "source": [
    "df.shape"
   ]
  },
  {
   "cell_type": "code",
   "execution_count": 8,
   "id": "c8e78244",
   "metadata": {},
   "outputs": [
    {
     "data": {
      "text/plain": [
       "Hours     False\n",
       "Scores    False\n",
       "dtype: bool"
      ]
     },
     "execution_count": 8,
     "metadata": {},
     "output_type": "execute_result"
    }
   ],
   "source": [
    "#checking if there are any null values\n",
    "df.isnull().any()"
   ]
  },
  {
   "cell_type": "code",
   "execution_count": 9,
   "id": "12471e09",
   "metadata": {},
   "outputs": [
    {
     "data": {
      "text/plain": [
       "<AxesSubplot:xlabel='Hours', ylabel='Scores'>"
      ]
     },
     "execution_count": 9,
     "metadata": {},
     "output_type": "execute_result"
    },
    {
     "data": {
      "image/png": "[encoded data removed]",
      "text/plain": [
       "<Figure size 432x288 with 1 Axes>"
      ]
     },
     "metadata": {
      "needs_background": "light"
     },
     "output_type": "display_data"
    }
   ],
   "source": [
    "#Plotting the scores\n",
    "sns.scatterplot(x='Hours',y='Scores',data=df)"
   ]
  },
  {
   "cell_type": "code",
   "execution_count": 10,
   "id": "9ca68dc1",
   "metadata": {},
   "outputs": [],
   "source": [
    "#dividing the data into attributes (inputs) and labels (outputs)\n",
    "X = df.iloc[:,:-1]\n",
    "y = df.iloc[:,1]"
   ]
  },
  {
   "cell_type": "code",
   "execution_count": 11,
   "id": "18481090",
   "metadata": {},
   "outputs": [
    {
     "data": {
      "text/html": [
       "<div>\n",
       "<style scoped>\n",
       "    .dataframe tbody tr th:only-of-type {\n",
       "        vertical-align: middle;\n",
       "    }\n",
       "\n",
       "    .dataframe tbody tr th {\n",
       "        vertical-align: top;\n",
       "    }\n",
       "\n",
       "    .dataframe thead th {\n",
       "        text-align: right;\n",
       "    }\n",
       "</style>\n",
       "<table border=\"1\" class=\"dataframe\">\n",
       "  <thead>\n",
       "    <tr style=\"text-align: right;\">\n",
       "      <th></th>\n",
       "      <th>Hours</th>\n",
       "    </tr>\n",
       "  </thead>\n",
       "  <tbody>\n",
       "    <tr>\n",
       "      <th>0</th>\n",
       "      <td>2.5</td>\n",
       "    </tr>\n",
       "    <tr>\n",
       "      <th>1</th>\n",
       "      <td>5.1</td>\n",
       "    </tr>\n",
       "    <tr>\n",
       "      <th>2</th>\n",
       "      <td>3.2</td>\n",
       "    </tr>\n",
       "    <tr>\n",
       "      <th>3</th>\n",
       "      <td>8.5</td>\n",
       "    </tr>\n",
       "    <tr>\n",
       "      <th>4</th>\n",
       "      <td>3.5</td>\n",
       "    </tr>\n",
       "  </tbody>\n",
       "</table>\n",
       "</div>"
      ],
      "text/plain": [
       "   Hours\n",
       "0    2.5\n",
       "1    5.1\n",
       "2    3.2\n",
       "3    8.5\n",
       "4    3.5"
      ]
     },
     "execution_count": 11,
     "metadata": {},
     "output_type": "execute_result"
    }
   ],
   "source": [
    "X.head()"
   ]
  },
  {
   "cell_type": "markdown",
   "id": "04066a82",
   "metadata": {},
   "source": [
    "# Linear Regression"
   ]
  },
  {
   "cell_type": "code",
   "execution_count": 12,
   "id": "fbf08df8",
   "metadata": {},
   "outputs": [],
   "source": [
    "#Splitting the data into training and test sets by using Scikit-Learn's built-in train_test_split() method:\n",
    "from sklearn.model_selection import train_test_split  \n",
    "X_train, X_test, y_train, y_test = train_test_split(X, y, \n",
    "                            test_size=0.2, random_state=0)"
   ]
  },
  {
   "cell_type": "code",
   "execution_count": 13,
   "id": "805c47d3",
   "metadata": {},
   "outputs": [],
   "source": [
    "#Splitting the independent and dependent features into train test split using sklearn library\n",
    "from sklearn.model_selection import train_test_split\n",
    "X_train,X_test,y_train,y_test = train_test_split(X,y,test_size=0.2,random_state=42,shuffle=True)"
   ]
  },
  {
   "cell_type": "code",
   "execution_count": 14,
   "id": "34fe4f43",
   "metadata": {},
   "outputs": [
    {
     "data": {
      "text/plain": [
       "LinearRegression()"
      ]
     },
     "execution_count": 14,
     "metadata": {},
     "output_type": "execute_result"
    }
   ],
   "source": [
    "#training the algorithm\n",
    "from sklearn.linear_model import LinearRegression\n",
    "lr = LinearRegression()\n",
    "\n",
    "lr.fit(X_train,y_train)"
   ]
  },
  {
   "cell_type": "code",
   "execution_count": 15,
   "id": "a02e680d",
   "metadata": {},
   "outputs": [],
   "source": [
    "#prediction of the test data\n",
    "y_pred = lr.predict(X_test)"
   ]
  },
  {
   "cell_type": "code",
   "execution_count": 16,
   "id": "9b661e89",
   "metadata": {},
   "outputs": [
    {
     "data": {
      "image/png": "[encoded data removed]",
      "text/plain": [
       "<Figure size 432x288 with 1 Axes>"
      ]
     },
     "metadata": {
      "needs_background": "light"
     },
     "output_type": "display_data"
    }
   ],
   "source": [
    "#Plotting the regression line\n",
    "line = lr.coef_*X+lr.intercept_\n",
    "#Plotting of the test data\n",
    "plt.scatter(X, y)\n",
    "plt.plot(X, line);\n",
    "plt.show()"
   ]
  },
  {
   "cell_type": "code",
   "execution_count": 17,
   "id": "7e027baf",
   "metadata": {},
   "outputs": [
    {
     "name": "stdout",
     "output_type": "stream",
     "text": [
      "[CV] END .................................................... total time=   0.0s\n",
      "[CV] END .................................................... total time=   0.0s\n",
      "[CV] END .................................................... total time=   0.0s\n",
      "[CV] END .................................................... total time=   0.0s\n",
      "[CV] END .................................................... total time=   0.0s\n",
      "R^2 Validation: 0.7953635134250876\n"
     ]
    },
    {
     "name": "stderr",
     "output_type": "stream",
     "text": [
      "[Parallel(n_jobs=1)]: Using backend SequentialBackend with 1 concurrent workers.\n",
      "[Parallel(n_jobs=1)]: Done   1 out of   1 | elapsed:    0.0s remaining:    0.0s\n",
      "[Parallel(n_jobs=1)]: Done   5 out of   5 | elapsed:    0.0s finished\n"
     ]
    }
   ],
   "source": [
    "lr_score = cross_val_score(lr, X_train, y_train, verbose = 2)\n",
    "\n",
    "#Average Coefficient of determination (R^2) on the validation set\n",
    "print(f'R^2 Validation: {lr_score.mean()}')"
   ]
  },
  {
   "cell_type": "code",
   "execution_count": 18,
   "id": "85a86d34",
   "metadata": {},
   "outputs": [
    {
     "data": {
      "text/plain": [
       "LinearRegression()"
      ]
     },
     "execution_count": 18,
     "metadata": {},
     "output_type": "execute_result"
    }
   ],
   "source": [
    "#Fit the model to the training set\n",
    "lr.fit(X_train, y_train)"
   ]
  },
  {
   "cell_type": "code",
   "execution_count": 19,
   "id": "13b311f5",
   "metadata": {},
   "outputs": [],
   "source": [
    "y_pred = lr.predict(X_test)"
   ]
  },
  {
   "cell_type": "code",
   "execution_count": 20,
   "id": "ff5f449c",
   "metadata": {},
   "outputs": [
    {
     "name": "stdout",
     "output_type": "stream",
     "text": [
      "R^2 Test: 0.9678055545167994\n"
     ]
    }
   ],
   "source": [
    "print(f'R^2 Test: {lr.score(X_test, y_test)}')"
   ]
  },
  {
   "cell_type": "code",
   "execution_count": 21,
   "id": "21da0872",
   "metadata": {},
   "outputs": [
    {
     "name": "stdout",
     "output_type": "stream",
     "text": [
      "RMSE Test: 4.352380006653288\n"
     ]
    }
   ],
   "source": [
    "print(f'RMSE Test: {np.sqrt(mean_squared_error(y_test, y_pred))}')"
   ]
  },
  {
   "cell_type": "code",
   "execution_count": 22,
   "id": "9cac53b7",
   "metadata": {},
   "outputs": [
    {
     "data": {
      "image/png": "[encoded data removed]",
      "text/plain": [
       "<Figure size 432x288 with 1 Axes>"
      ]
     },
     "metadata": {
      "needs_background": "light"
     },
     "output_type": "display_data"
    }
   ],
   "source": [
    "#Visualize the predictions (in blue) against the actual values (in red)\n",
    "ax1 = sns.distplot(y_test, hist=False, color='r', label='actual')\n",
    "sns_plot = sns.distplot(y_pred, hist=False, color='b',label='prediction', ax=ax1)\n"
   ]
  },
  {
   "cell_type": "code",
   "execution_count": 70,
   "id": "a778b1df",
   "metadata": {},
   "outputs": [
    {
     "name": "stdout",
     "output_type": "stream",
     "text": [
      "If a student studies for 9.25hrs/day then he will score approximately [92.38611528]\n"
     ]
    }
   ],
   "source": [
    "print(\"If a student studies for 9.25hrs/day then he will score approximately {}\".format(lr.predict([[9.25]])))"
   ]
  },
  {
   "cell_type": "markdown",
   "id": "85930a84",
   "metadata": {},
   "source": [
    "# Decision tree"
   ]
  },
  {
   "cell_type": "code",
   "execution_count": 23,
   "id": "1b75a7f0",
   "metadata": {},
   "outputs": [],
   "source": [
    "#Hyperparameter values to feed to the RandomizedSearchCV\n",
    "param_grid = {'max_features': ['auto', 'sqrt'], #Number of features to consider at every split\n",
    "               'max_depth': np.arange(5, 41, 5), #Maximum number of levels in tree\n",
    "               'min_samples_split': [5, 10, 20, 40], #Minimum number of samples required to split a node\n",
    "               'min_samples_leaf': [2, 6, 12, 24], #Minimum number of samples required at each leaf node\n",
    "               }"
   ]
  },
  {
   "cell_type": "code",
   "execution_count": 24,
   "id": "099f4748",
   "metadata": {},
   "outputs": [
    {
     "name": "stdout",
     "output_type": "stream",
     "text": [
      "Fitting 5 folds for each of 100 candidates, totalling 500 fits\n"
     ]
    },
    {
     "data": {
      "text/plain": [
       "RandomizedSearchCV(estimator=DecisionTreeRegressor(), n_iter=100, n_jobs=-1,\n",
       "                   param_distributions={'max_depth': array([ 5, 10, 15, 20, 25, 30, 35, 40]),\n",
       "                                        'max_features': ['auto', 'sqrt'],\n",
       "                                        'min_samples_leaf': [2, 6, 12, 24],\n",
       "                                        'min_samples_split': [5, 10, 20, 40]},\n",
       "                   verbose=2)"
      ]
     },
     "execution_count": 24,
     "metadata": {},
     "output_type": "execute_result"
    }
   ],
   "source": [
    "from sklearn.tree import DecisionTreeRegressor\n",
    "\n",
    "#Instantiate a RandomizedSearchCV on a DecisionTreeRegressor model with 100 iterations\n",
    "tree_reg = RandomizedSearchCV(estimator = DecisionTreeRegressor(), param_distributions = param_grid, n_iter = 100, verbose = 2, n_jobs = -1)\n",
    "\n",
    "tree_reg.fit(X_train, y_train)"
   ]
  },
  {
   "cell_type": "code",
   "execution_count": 25,
   "id": "03674dda",
   "metadata": {},
   "outputs": [
    {
     "data": {
      "text/plain": [
       "{'min_samples_split': 5,\n",
       " 'min_samples_leaf': 2,\n",
       " 'max_features': 'auto',\n",
       " 'max_depth': 10}"
      ]
     },
     "execution_count": 25,
     "metadata": {},
     "output_type": "execute_result"
    }
   ],
   "source": [
    "#Check the best parameters found by RandomizedSearchCV\n",
    "tree_reg.best_params_"
   ]
  },
  {
   "cell_type": "code",
   "execution_count": 26,
   "id": "388f388f",
   "metadata": {},
   "outputs": [
    {
     "name": "stdout",
     "output_type": "stream",
     "text": [
      "R^2 Validation: 0.29376647491588603\n"
     ]
    }
   ],
   "source": [
    "#Check the cross-validation evaluation metric of the best estimator\n",
    "print(f'R^2 Validation: {tree_reg.best_score_}')"
   ]
  },
  {
   "cell_type": "code",
   "execution_count": 27,
   "id": "9fe81162",
   "metadata": {},
   "outputs": [
    {
     "data": {
      "text/plain": [
       "[('Hours', 1.0)]"
      ]
     },
     "execution_count": 27,
     "metadata": {},
     "output_type": "execute_result"
    }
   ],
   "source": [
    "#Check the features which are considered as most important in making predictions\n",
    "sorted(dict(zip(X_train.columns, tree_reg.best_estimator_.feature_importances_)).items(), key=lambda x: x[1], reverse=True)"
   ]
  },
  {
   "cell_type": "code",
   "execution_count": 28,
   "id": "a0851e8f",
   "metadata": {},
   "outputs": [],
   "source": [
    "#Compute predictions from the test set\n",
    "y_pred = tree_reg.predict(X_test)"
   ]
  },
  {
   "cell_type": "code",
   "execution_count": 29,
   "id": "093983d0",
   "metadata": {},
   "outputs": [
    {
     "name": "stdout",
     "output_type": "stream",
     "text": [
      "R^2 Test: 0.9427638039126822\n"
     ]
    }
   ],
   "source": [
    "#Coefficient of determination (R^2) on the test set\n",
    "print(f'R^2 Test: {tree_reg.score(X_test, y_test)}')"
   ]
  },
  {
   "cell_type": "code",
   "execution_count": 30,
   "id": "6aeef5b0",
   "metadata": {},
   "outputs": [
    {
     "name": "stdout",
     "output_type": "stream",
     "text": [
      "RMSE Test: 5.803255791172554\n"
     ]
    }
   ],
   "source": [
    "print(f'RMSE Test: {np.sqrt(mean_squared_error(y_test, y_pred))}')"
   ]
  },
  {
   "cell_type": "code",
   "execution_count": 31,
   "id": "5979aabc",
   "metadata": {},
   "outputs": [
    {
     "data": {
      "image/png": "[encoded data removed]",
      "text/plain": [
       "<Figure size 432x288 with 1 Axes>"
      ]
     },
     "metadata": {
      "needs_background": "light"
     },
     "output_type": "display_data"
    }
   ],
   "source": [
    "#Visualize the predictions (in blue) against the actual values (in red)\n",
    "ax1 = sns.distplot(y_test, hist=False, color='r', label='actual')\n",
    "sns_plot = sns.distplot(y_pred, hist=False, color='b',label='prediction', ax=ax1)\n"
   ]
  },
  {
   "cell_type": "code",
   "execution_count": 71,
   "id": "55df23ef",
   "metadata": {},
   "outputs": [
    {
     "name": "stdout",
     "output_type": "stream",
     "text": [
      "If a student studies for 9.25hrs/day then he will score approximately [91.5]\n"
     ]
    }
   ],
   "source": [
    "print(\"If a student studies for 9.25hrs/day then he will score approximately {}\".format(tree_reg.predict([[9.25]])))"
   ]
  },
  {
   "cell_type": "markdown",
   "id": "00e3474d",
   "metadata": {},
   "source": [
    "# Random Forest"
   ]
  },
  {
   "cell_type": "code",
   "execution_count": 32,
   "id": "39411b66",
   "metadata": {},
   "outputs": [],
   "source": [
    "#Hyperparameter values to feed to the RandomizedSearchCV\n",
    "param_grid = {'max_features': ['auto', 'sqrt'], #Number of features to consider at every split\n",
    "               'max_depth': np.arange(5, 41, 5), #Maximum number of levels in tree\n",
    "               'min_samples_split': [5, 10, 20, 40], #Minimum number of samples required to split a node\n",
    "               'min_samples_leaf': [2, 6, 12, 24], #Minimum number of samples required at each leaf node\n",
    "               }"
   ]
  },
  {
   "cell_type": "code",
   "execution_count": 33,
   "id": "b80ef416",
   "metadata": {},
   "outputs": [
    {
     "name": "stdout",
     "output_type": "stream",
     "text": [
      "Fitting 5 folds for each of 100 candidates, totalling 500 fits\n"
     ]
    },
    {
     "data": {
      "text/plain": [
       "RandomizedSearchCV(estimator=RandomForestRegressor(), n_iter=100, n_jobs=-1,\n",
       "                   param_distributions={'max_depth': array([ 5, 10, 15, 20, 25, 30, 35, 40]),\n",
       "                                        'max_features': ['auto', 'sqrt'],\n",
       "                                        'min_samples_leaf': [2, 6, 12, 24],\n",
       "                                        'min_samples_split': [5, 10, 20, 40]},\n",
       "                   verbose=2)"
      ]
     },
     "execution_count": 33,
     "metadata": {},
     "output_type": "execute_result"
    }
   ],
   "source": [
    "from sklearn.ensemble import RandomForestRegressor\n",
    "\n",
    "#Instantiate a RandomizedSearchCV on a RandomForestRegressor model with 100 iterations\n",
    "rfor_reg = RandomizedSearchCV(RandomForestRegressor(), param_distributions = param_grid, n_iter = 100, verbose = 2, n_jobs = -1)\n",
    "\n",
    "rfor_reg.fit(X_train, y_train)"
   ]
  },
  {
   "cell_type": "code",
   "execution_count": 34,
   "id": "b7fcb2a7",
   "metadata": {},
   "outputs": [
    {
     "data": {
      "text/plain": [
       "{'min_samples_split': 5,\n",
       " 'min_samples_leaf': 2,\n",
       " 'max_features': 'sqrt',\n",
       " 'max_depth': 10}"
      ]
     },
     "execution_count": 34,
     "metadata": {},
     "output_type": "execute_result"
    }
   ],
   "source": [
    "#Check the best parameters found by RandomizedSearchCV\n",
    "rfor_reg.best_params_"
   ]
  },
  {
   "cell_type": "code",
   "execution_count": 35,
   "id": "aa1ebed5",
   "metadata": {},
   "outputs": [
    {
     "name": "stdout",
     "output_type": "stream",
     "text": [
      "R^2 Validation: 0.4900100215330186\n"
     ]
    }
   ],
   "source": [
    "#Check the cross-validation evaluation metric of the best estimator\n",
    "print(f'R^2 Validation: {rfor_reg.best_score_}')"
   ]
  },
  {
   "cell_type": "code",
   "execution_count": 36,
   "id": "231490e7",
   "metadata": {},
   "outputs": [
    {
     "data": {
      "text/plain": [
       "[('Hours', 1.0)]"
      ]
     },
     "execution_count": 36,
     "metadata": {},
     "output_type": "execute_result"
    }
   ],
   "source": [
    "#Check the features which are considered as most important in making predictions\n",
    "sorted(dict(zip(X_train.columns, rfor_reg.best_estimator_.feature_importances_)).items(), key=lambda x: x[1], reverse=True)"
   ]
  },
  {
   "cell_type": "code",
   "execution_count": 37,
   "id": "88b4c52e",
   "metadata": {},
   "outputs": [],
   "source": [
    "#Compute predictions from the test set\n",
    "y_pred = rfor_reg.predict(X_test)"
   ]
  },
  {
   "cell_type": "code",
   "execution_count": 38,
   "id": "875de0f9",
   "metadata": {},
   "outputs": [
    {
     "name": "stdout",
     "output_type": "stream",
     "text": [
      "R^2 Test: 0.9756113576377059\n"
     ]
    }
   ],
   "source": [
    "#Coefficient of determination (R^2) on the test set\n",
    "print(f'R^2 Test: {rfor_reg.score(X_test, y_test)}')"
   ]
  },
  {
   "cell_type": "code",
   "execution_count": 39,
   "id": "465ed3ea",
   "metadata": {},
   "outputs": [
    {
     "name": "stdout",
     "output_type": "stream",
     "text": [
      "RMSE Test: 3.788175968190208\n"
     ]
    }
   ],
   "source": [
    "print(f'RMSE Test: {np.sqrt(mean_squared_error(y_test, y_pred))}')"
   ]
  },
  {
   "cell_type": "code",
   "execution_count": 40,
   "id": "93361fb8",
   "metadata": {},
   "outputs": [
    {
     "data": {
      "image/png": "[encoded data removed]",
      "text/plain": [
       "<Figure size 432x288 with 1 Axes>"
      ]
     },
     "metadata": {
      "needs_background": "light"
     },
     "output_type": "display_data"
    }
   ],
   "source": [
    "#Visualize the predictions (in blue) against the actual values (in red)\n",
    "ax1 = sns.distplot(y_test, hist=False, color='r', label='actual')\n",
    "sns_plot = sns.distplot(y_pred, hist=False, color='b',label='prediction', ax=ax1)"
   ]
  },
  {
   "cell_type": "code",
   "execution_count": 72,
   "id": "fe409d94",
   "metadata": {},
   "outputs": [
    {
     "name": "stdout",
     "output_type": "stream",
     "text": [
      "If a student studies for 9.25hrs/day then he will score approximately [85.44070635]\n"
     ]
    }
   ],
   "source": [
    "print(\"If a student studies for 9.25hrs/day then he will score approximately {}\".format(rfor_reg.predict([[9.25]])))"
   ]
  },
  {
   "cell_type": "markdown",
   "id": "d7d8f88f",
   "metadata": {},
   "source": [
    "# Adaptive Boosting"
   ]
  },
  {
   "cell_type": "code",
   "execution_count": 41,
   "id": "0518899c",
   "metadata": {},
   "outputs": [],
   "source": [
    "#Hyperparameter values to feed to the RandomizedSearchCV\n",
    "param_grid = {\"learning_rate\"   : [0.01, 0.1, 0.3],\n",
    "              \"loss\"            : ['linear', 'square', 'exponential']\n",
    "             }"
   ]
  },
  {
   "cell_type": "code",
   "execution_count": 42,
   "id": "5ea1e0d5",
   "metadata": {},
   "outputs": [
    {
     "name": "stdout",
     "output_type": "stream",
     "text": [
      "Fitting 5 folds for each of 9 candidates, totalling 45 fits\n"
     ]
    },
    {
     "data": {
      "text/plain": [
       "RandomizedSearchCV(estimator=AdaBoostRegressor(base_estimator=DecisionTreeRegressor(max_depth=40,\n",
       "                                                                                    min_samples_leaf=2,\n",
       "                                                                                    min_samples_split=40),\n",
       "                                               n_estimators=100),\n",
       "                   n_iter=100, n_jobs=-1,\n",
       "                   param_distributions={'learning_rate': [0.01, 0.1, 0.3],\n",
       "                                        'loss': ['linear', 'square',\n",
       "                                                 'exponential']},\n",
       "                   verbose=2)"
      ]
     },
     "execution_count": 42,
     "metadata": {},
     "output_type": "execute_result"
    }
   ],
   "source": [
    "from sklearn.ensemble import AdaBoostRegressor\n",
    "from sklearn.tree import DecisionTreeRegressor\n",
    "\n",
    "#Instantiate a RandomizedSearchCV on an AdaBoostRegressor model with 100 iterations\n",
    "ada_reg = RandomizedSearchCV(AdaBoostRegressor(DecisionTreeRegressor(min_samples_split = 40, min_samples_leaf = 2, max_depth = 40), n_estimators=100), param_distributions = param_grid, n_iter = 100, verbose = 2, n_jobs = -1)\n",
    "\n",
    "ada_reg.fit(X_train, y_train)"
   ]
  },
  {
   "cell_type": "code",
   "execution_count": 43,
   "id": "79908f4b",
   "metadata": {},
   "outputs": [
    {
     "data": {
      "text/plain": [
       "{'loss': 'square', 'learning_rate': 0.3}"
      ]
     },
     "execution_count": 43,
     "metadata": {},
     "output_type": "execute_result"
    }
   ],
   "source": [
    "#Check the best parameters found by RandomizedSearchCV\n",
    "ada_reg.best_params_"
   ]
  },
  {
   "cell_type": "code",
   "execution_count": 44,
   "id": "b0b5819a",
   "metadata": {},
   "outputs": [
    {
     "name": "stdout",
     "output_type": "stream",
     "text": [
      "R^2 Validation: -0.9913201319986384\n"
     ]
    }
   ],
   "source": [
    "#Check the cross-validation evaluation metric of the best estimator\n",
    "print(f'R^2 Validation: {ada_reg.best_score_}')"
   ]
  },
  {
   "cell_type": "code",
   "execution_count": 45,
   "id": "4febb606",
   "metadata": {},
   "outputs": [
    {
     "data": {
      "text/plain": [
       "[('Hours', 0.0)]"
      ]
     },
     "execution_count": 45,
     "metadata": {},
     "output_type": "execute_result"
    }
   ],
   "source": [
    "#Check the features which are considered as most important in making predictions\n",
    "sorted(dict(zip(X_train.columns, ada_reg.best_estimator_.feature_importances_)).items(), key=lambda x: x[1], reverse=True)"
   ]
  },
  {
   "cell_type": "code",
   "execution_count": 46,
   "id": "22f3516f",
   "metadata": {},
   "outputs": [],
   "source": [
    "#Compute predictions from the test set\n",
    "y_pred = ada_reg.predict(X_test)"
   ]
  },
  {
   "cell_type": "code",
   "execution_count": 47,
   "id": "39656b22",
   "metadata": {},
   "outputs": [
    {
     "name": "stdout",
     "output_type": "stream",
     "text": [
      "R^2 Test: -0.029979605710401147\n"
     ]
    }
   ],
   "source": [
    "#Coefficient of determination (R^2) on the test set\n",
    "print(f'R^2 Test: {ada_reg.score(X_test, y_test)}')"
   ]
  },
  {
   "cell_type": "code",
   "execution_count": 48,
   "id": "e8d9f486",
   "metadata": {},
   "outputs": [
    {
     "name": "stdout",
     "output_type": "stream",
     "text": [
      "RMSE Test: 24.617879681239813\n"
     ]
    }
   ],
   "source": [
    "print(f'RMSE Test: {np.sqrt(mean_squared_error(y_test, y_pred))}')"
   ]
  },
  {
   "cell_type": "code",
   "execution_count": 49,
   "id": "da516412",
   "metadata": {},
   "outputs": [
    {
     "data": {
      "image/png": "[encoded data removed]",
      "text/plain": [
       "<Figure size 432x288 with 1 Axes>"
      ]
     },
     "metadata": {
      "needs_background": "light"
     },
     "output_type": "display_data"
    }
   ],
   "source": [
    "#Visualize the predictions (in blue) against the actual values (in red)\n",
    "ax1 = sns.distplot(y_test, hist=False, color='r', label='actual')\n",
    "sns_plot = sns.distplot(y_pred, hist=False, color='b',label='prediction', ax=ax1)\n"
   ]
  },
  {
   "cell_type": "code",
   "execution_count": 73,
   "id": "663c6cc4",
   "metadata": {},
   "outputs": [
    {
     "name": "stdout",
     "output_type": "stream",
     "text": [
      "If a student studies for 9.25hrs/day then he will score approximately [49.8]\n"
     ]
    }
   ],
   "source": [
    "print(\"If a student studies for 9.25hrs/day then he will score approximately {}\".format(ada_reg.predict([[9.25]])))"
   ]
  },
  {
   "cell_type": "markdown",
   "id": "78f25383",
   "metadata": {},
   "source": [
    "# Gradient Boosting"
   ]
  },
  {
   "cell_type": "code",
   "execution_count": 50,
   "id": "49960816",
   "metadata": {},
   "outputs": [],
   "source": [
    "#Hyperparameter values to feed to the RandomizedSearchCV\n",
    "param_grid = {\"learning_rate\"   : [0.01, 0.1, 0.3],\n",
    "             \"subsample\"        : [0.5, 1.0],\n",
    "             'max_depth'        : np.arange(5, 41, 5),\n",
    "             \"max_features\"     : ['auto', 'sqrt'],\n",
    "             \"min_samples_split\": [5, 10, 20, 40],\n",
    "             \"min_samples_leaf\" : [2, 6, 12, 24]\n",
    "             }"
   ]
  },
  {
   "cell_type": "code",
   "execution_count": 51,
   "id": "f99847e3",
   "metadata": {},
   "outputs": [
    {
     "name": "stdout",
     "output_type": "stream",
     "text": [
      "Fitting 5 folds for each of 100 candidates, totalling 500 fits\n"
     ]
    },
    {
     "data": {
      "text/plain": [
       "RandomizedSearchCV(estimator=GradientBoostingRegressor(), n_iter=100, n_jobs=-1,\n",
       "                   param_distributions={'learning_rate': [0.01, 0.1, 0.3],\n",
       "                                        'max_depth': array([ 5, 10, 15, 20, 25, 30, 35, 40]),\n",
       "                                        'max_features': ['auto', 'sqrt'],\n",
       "                                        'min_samples_leaf': [2, 6, 12, 24],\n",
       "                                        'min_samples_split': [5, 10, 20, 40],\n",
       "                                        'subsample': [0.5, 1.0]},\n",
       "                   verbose=2)"
      ]
     },
     "execution_count": 51,
     "metadata": {},
     "output_type": "execute_result"
    }
   ],
   "source": [
    "from sklearn.ensemble import GradientBoostingRegressor\n",
    "\n",
    "#Instantiate a RandomizedSearchCV on a GradientBoostingRegressor model with 100 iterations\n",
    "grad_reg = RandomizedSearchCV(GradientBoostingRegressor(), param_distributions = param_grid, n_iter = 100, verbose = 2, n_jobs = -1)\n",
    "\n",
    "grad_reg.fit(X_train, y_train)"
   ]
  },
  {
   "cell_type": "code",
   "execution_count": 52,
   "id": "dfd1fb07",
   "metadata": {},
   "outputs": [
    {
     "data": {
      "text/plain": [
       "{'subsample': 0.5,\n",
       " 'min_samples_split': 5,\n",
       " 'min_samples_leaf': 2,\n",
       " 'max_features': 'auto',\n",
       " 'max_depth': 25,\n",
       " 'learning_rate': 0.3}"
      ]
     },
     "execution_count": 52,
     "metadata": {},
     "output_type": "execute_result"
    }
   ],
   "source": [
    "#Check the best parameters found by RandomizedSearchCV\n",
    "grad_reg.best_params_"
   ]
  },
  {
   "cell_type": "code",
   "execution_count": 53,
   "id": "4e4c8d1d",
   "metadata": {},
   "outputs": [
    {
     "name": "stdout",
     "output_type": "stream",
     "text": [
      "R^2 Validation: 0.5581935925113664\n"
     ]
    }
   ],
   "source": [
    "#Check the cross-validation evaluation metric of the best estimator\n",
    "print(f'R^2 Validation: {grad_reg.best_score_}')"
   ]
  },
  {
   "cell_type": "code",
   "execution_count": 54,
   "id": "31e897b9",
   "metadata": {},
   "outputs": [
    {
     "data": {
      "text/plain": [
       "[('Hours', 1.0)]"
      ]
     },
     "execution_count": 54,
     "metadata": {},
     "output_type": "execute_result"
    }
   ],
   "source": [
    "#Check the features which are considered as most important in making predictions\n",
    "sorted(dict(zip(X_train.columns, grad_reg.best_estimator_.feature_importances_)).items(), key=lambda x: x[1], reverse=True)"
   ]
  },
  {
   "cell_type": "code",
   "execution_count": 55,
   "id": "dcdfce51",
   "metadata": {},
   "outputs": [],
   "source": [
    "#Compute predictions from the test set\n",
    "y_pred = grad_reg.predict(X_test)"
   ]
  },
  {
   "cell_type": "code",
   "execution_count": 56,
   "id": "396e3527",
   "metadata": {},
   "outputs": [
    {
     "name": "stdout",
     "output_type": "stream",
     "text": [
      "R^2 Test: 0.9417785211889775\n"
     ]
    }
   ],
   "source": [
    "#Coefficient of determination (R^2) on the test set\n",
    "print(f'R^2 Test: {grad_reg.score(X_test, y_test)}')"
   ]
  },
  {
   "cell_type": "code",
   "execution_count": 57,
   "id": "867ea8d1",
   "metadata": {},
   "outputs": [
    {
     "name": "stdout",
     "output_type": "stream",
     "text": [
      "RMSE Test: 5.852992237514552\n"
     ]
    }
   ],
   "source": [
    "print(f'RMSE Test: {np.sqrt(mean_squared_error(y_test, y_pred))}')"
   ]
  },
  {
   "cell_type": "code",
   "execution_count": 58,
   "id": "da294e63",
   "metadata": {},
   "outputs": [
    {
     "data": {
      "image/png": "[encoded data removed]",
      "text/plain": [
       "<Figure size 432x288 with 1 Axes>"
      ]
     },
     "metadata": {
      "needs_background": "light"
     },
     "output_type": "display_data"
    }
   ],
   "source": [
    "#Visualize the predictions (in blue) against the actual values (in red)\n",
    "ax1 = sns.distplot(y_test, hist=False, color='r', label='actual')\n",
    "sns_plot = sns.distplot(y_pred, hist=False, color='b',label='prediction', ax=ax1)\n"
   ]
  },
  {
   "cell_type": "code",
   "execution_count": 74,
   "id": "5cf6008d",
   "metadata": {},
   "outputs": [
    {
     "name": "stdout",
     "output_type": "stream",
     "text": [
      "If a student studies for 9.25hrs/day then he will score approximately [90.81364703]\n"
     ]
    }
   ],
   "source": [
    "print(\"If a student studies for 9.25hrs/day then he will score approximately {}\".format(grad_reg.predict([[9.25]])))"
   ]
  },
  {
   "cell_type": "markdown",
   "id": "2da0ac16",
   "metadata": {},
   "source": [
    "# XG Boosting "
   ]
  },
  {
   "cell_type": "code",
   "execution_count": 59,
   "id": "a6bca710",
   "metadata": {},
   "outputs": [],
   "source": [
    "#from xgboost import XGBRegressor\n",
    "#Hyperparameter values to feed to the RandomizedSearchCV\n",
    "param_grid = {\"learning_rate\"   : [0.01, 0.1, 0.3] ,#step size shrinkage used to prevent overfitting\n",
    "             'max_depth'        : np.arange(5, 41, 5),\n",
    "             \"min_child_weight\" : [1, 3, 5, 7],\n",
    "             \"gamma\"            : [0.0, 0.1, 0.2, 0.3, 0.4],\n",
    "             \"colsample_bytree\" : [0.3, 0.4, 0.5, 0.7]\n",
    "             }"
   ]
  },
  {
   "cell_type": "code",
   "execution_count": 60,
   "id": "17eb8e4e",
   "metadata": {},
   "outputs": [
    {
     "name": "stdout",
     "output_type": "stream",
     "text": [
      "Fitting 5 folds for each of 100 candidates, totalling 500 fits\n"
     ]
    },
    {
     "data": {
      "text/plain": [
       "RandomizedSearchCV(estimator=XGBRegressor(base_score=None, booster=None,\n",
       "                                          colsample_bylevel=None,\n",
       "                                          colsample_bynode=None,\n",
       "                                          colsample_bytree=None, gamma=None,\n",
       "                                          gpu_id=None, importance_type='gain',\n",
       "                                          interaction_constraints=None,\n",
       "                                          learning_rate=None,\n",
       "                                          max_delta_step=None, max_depth=None,\n",
       "                                          min_child_weight=None, missing=nan,\n",
       "                                          monotone_constraints=None,\n",
       "                                          n_estimators=100, n_jobs...\n",
       "                                          random_state=None, reg_alpha=None,\n",
       "                                          reg_lambda=None,\n",
       "                                          scale_pos_weight=None, subsample=None,\n",
       "                                          tree_method=None,\n",
       "                                          validate_parameters=None,\n",
       "                                          verbosity=None),\n",
       "                   n_iter=100, n_jobs=-1,\n",
       "                   param_distributions={'colsample_bytree': [0.3, 0.4, 0.5,\n",
       "                                                             0.7],\n",
       "                                        'gamma': [0.0, 0.1, 0.2, 0.3, 0.4],\n",
       "                                        'learning_rate': [0.01, 0.1, 0.3],\n",
       "                                        'max_depth': array([ 5, 10, 15, 20, 25, 30, 35, 40]),\n",
       "                                        'min_child_weight': [1, 3, 5, 7]},\n",
       "                   verbose=2)"
      ]
     },
     "execution_count": 60,
     "metadata": {},
     "output_type": "execute_result"
    }
   ],
   "source": [
    "#Instantiate a RandomizedSearchCV on an XGBRegressor model with 100 iterations\n",
    "from xgboost import XGBRegressor\n",
    "xgbr = RandomizedSearchCV(XGBRegressor(), param_distributions = param_grid, n_iter = 100, verbose = 2, n_jobs = -1)\n",
    "\n",
    "xgbr.fit(X_train, y_train)"
   ]
  },
  {
   "cell_type": "code",
   "execution_count": 61,
   "id": "7974a7c6",
   "metadata": {},
   "outputs": [
    {
     "data": {
      "text/plain": [
       "{'min_child_weight': 3,\n",
       " 'max_depth': 35,\n",
       " 'learning_rate': 0.1,\n",
       " 'gamma': 0.4,\n",
       " 'colsample_bytree': 0.5}"
      ]
     },
     "execution_count": 61,
     "metadata": {},
     "output_type": "execute_result"
    }
   ],
   "source": [
    "#Best parameters\n",
    "xgbr.best_params_"
   ]
  },
  {
   "cell_type": "code",
   "execution_count": 62,
   "id": "728f142d",
   "metadata": {},
   "outputs": [
    {
     "name": "stdout",
     "output_type": "stream",
     "text": [
      "R^2 Validation: 0.5078704762631924\n"
     ]
    }
   ],
   "source": [
    "#Check the cross-validation evaluation metric of the best estimator\n",
    "print(f'R^2 Validation: {xgbr.best_score_}')"
   ]
  },
  {
   "cell_type": "code",
   "execution_count": 63,
   "id": "cfeb4002",
   "metadata": {},
   "outputs": [
    {
     "data": {
      "text/plain": [
       "[('Hours', 255)]"
      ]
     },
     "execution_count": 63,
     "metadata": {},
     "output_type": "execute_result"
    }
   ],
   "source": [
    "#Check the number of times a feature was used to split the data across all trees\n",
    "sorted(xgbr.best_estimator_.get_booster().get_score(importance_type='weight').items(), key=lambda x: x[1], reverse=True)"
   ]
  },
  {
   "cell_type": "code",
   "execution_count": 64,
   "id": "ffe643b6",
   "metadata": {},
   "outputs": [
    {
     "data": {
      "text/plain": [
       "<AxesSubplot:title={'center':'Feature importance'}, xlabel='F score', ylabel='Features'>"
      ]
     },
     "execution_count": 64,
     "metadata": {},
     "output_type": "execute_result"
    },
    {
     "data": {
      "image/png": "[encoded data removed]",
      "text/plain": [
       "<Figure size 576x504 with 1 Axes>"
      ]
     },
     "metadata": {
      "needs_background": "light"
     },
     "output_type": "display_data"
    }
   ],
   "source": [
    "#Plot the same data on a graph\n",
    "from xgboost import plot_importance\n",
    "from matplotlib import pyplot as plt\n",
    "\n",
    "fig, ax = plt.subplots(figsize=(8, 7))\n",
    "plot_importance(xgbr.best_estimator_, ax=ax)"
   ]
  },
  {
   "cell_type": "code",
   "execution_count": 65,
   "id": "0ec69f6e",
   "metadata": {},
   "outputs": [],
   "source": [
    "#Compute predictions from the test set\n",
    "y_pred = xgbr.predict(X_test)"
   ]
  },
  {
   "cell_type": "code",
   "execution_count": 66,
   "id": "295426b3",
   "metadata": {},
   "outputs": [
    {
     "name": "stdout",
     "output_type": "stream",
     "text": [
      "R^2 Test: 0.9516541097653008\n"
     ]
    }
   ],
   "source": [
    "#Coefficient of determination (R^2) on the test set\n",
    "print(f'R^2 Test: {xgbr.score(X_test, y_test)}')"
   ]
  },
  {
   "cell_type": "code",
   "execution_count": 67,
   "id": "04f0b0ba",
   "metadata": {},
   "outputs": [
    {
     "name": "stdout",
     "output_type": "stream",
     "text": [
      "RMSE Test: 5.333546832464956\n"
     ]
    }
   ],
   "source": [
    "print(f'RMSE Test: {np.sqrt(mean_squared_error(y_test, y_pred))}')"
   ]
  },
  {
   "cell_type": "code",
   "execution_count": 76,
   "id": "7e48ab6c",
   "metadata": {},
   "outputs": [
    {
     "name": "stdout",
     "output_type": "stream",
     "text": [
      "If a student studies for 9.25hrs/day then he will score approximately [92.38611528]\n"
     ]
    }
   ],
   "source": [
    "print(\"If a student studies for 9.25hrs/day then he will score approximately {}\".format(lr.predict([[9.25]])))"
   ]
  },
  {
   "cell_type": "code",
   "execution_count": 68,
   "id": "81d602fe",
   "metadata": {},
   "outputs": [
    {
     "data": {
      "image/png": "[encoded data removed]",
      "text/plain": [
       "<Figure size 432x288 with 1 Axes>"
      ]
     },
     "metadata": {
      "needs_background": "light"
     },
     "output_type": "display_data"
    }
   ],
   "source": [
    "#Visualize the predictions (in blue) against the actual values (in red)\n",
    "ax1 = sns.distplot(y_test, hist=False, color='r', label='actual')\n",
    "sns_plot = sns.distplot(y_pred, hist=False, color='b',label='prediction', ax=ax1)"
   ]
  },
  {
   "cell_type": "markdown",
   "id": "1860a6a0",
   "metadata": {},
   "source": [
    "# Result"
   ]
  },
  {
   "cell_type": "markdown",
   "id": "33b0645d",
   "metadata": {},
   "source": [
    "**We have used Linear Regression, Decision tree, Random Forest, Adaptive boosting, Gradient boosting and XG boosting to predict the score of a student if he studies 9.25 hours in a day**\n",
    "\n",
    "**Out of all the models used for prediction, Random forest is the most accurate for this problem (R^2 test value is maximum).**"
   ]
  }
 ],
 "metadata": {
  "kernelspec": {
   "display_name": "Python 3",
   "language": "python",
   "name": "python3"
  },
  "language_info": {
   "codemirror_mode": {
    "name": "ipython",
    "version": 3
   },
   "file_extension": ".py",
   "mimetype": "text/x-python",
   "name": "python",
   "nbconvert_exporter": "python",
   "pygments_lexer": "ipython3",
   "version": "3.9.4"
  }
 },
 "nbformat": 4,
 "nbformat_minor": 5
}
